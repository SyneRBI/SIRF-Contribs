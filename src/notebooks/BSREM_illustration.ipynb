{
 "cells": [
  {
   "cell_type": "markdown",
   "id": "0",
   "metadata": {},
   "source": [
    "# Demonstration of basic BSREM implementation with SIRF\n",
    "\n",
    "This notebook is largely based on the `display_and_projection` notebook from the SIRF-Exercises to simulate some data.\n",
    "Then it proceeds with reconstructing it with BSREM."
   ]
  },
  {
   "cell_type": "markdown",
   "id": "1",
   "metadata": {},
   "source": [
    "Author: Kris Thielemans  \n",
    "\n",
    "CCP SyneRBI Synergistic Image Reconstruction Framework (SIRF).  \n",
    "Copyright 2015 - 2017 Rutherford Appleton Laboratory STFC.  \n",
    "Copyright 2015 - 2018, 2021, 2024 University College London.\n",
    "\n",
    "This is software developed for the Collaborative Computational\n",
    "Project in Synergistic Reconstruction for Biomedical Imaging\n",
    "(http://www.ccpsynerbi.ac.uk/).\n",
    "\n",
    "SPDX-License-Identifier: Apache-2.0"
   ]
  },
  {
   "cell_type": "code",
   "execution_count": null,
   "id": "2",
   "metadata": {},
   "outputs": [],
   "source": [
    "#%% make sure figures appears inline and animations works\n",
    "%matplotlib widget"
   ]
  },
  {
   "cell_type": "code",
   "execution_count": null,
   "id": "3",
   "metadata": {},
   "outputs": [],
   "source": [
    "%load_ext autoreload\n",
    "%autoreload 2"
   ]
  },
  {
   "cell_type": "code",
   "execution_count": null,
   "id": "4",
   "metadata": {},
   "outputs": [],
   "source": [
    "#%% Initial imports etc\n",
    "import numpy\n",
    "import matplotlib.pyplot as plt\n",
    "import os\n",
    "import sys\n",
    "import sirf.STIR as STIR\n",
    "from sirf.Utilities import examples_data_path\n",
    "#from sirf_exercises import exercises_data_path"
   ]
  },
  {
   "cell_type": "markdown",
   "id": "23ed73ab-18a4-4a2d-8e01-ed5ecbc49690",
   "metadata": {},
   "source": [
    "Import functionality from the Python files in SIRF-Contribs.\n",
    "(Note that in most set-ups, this will be from the installed files.)"
   ]
  },
  {
   "cell_type": "code",
   "execution_count": null,
   "id": "5",
   "metadata": {},
   "outputs": [],
   "source": [
    "from sirf.contrib.partitioner import partitioner\n",
    "from sirf.contrib.BSREM.BSREM import BSREM1\n",
    "from sirf.contrib.BSREM.BSREM import BSREM2"
   ]
  },
  {
   "cell_type": "code",
   "execution_count": null,
   "id": "6",
   "metadata": {},
   "outputs": [],
   "source": [
    "# Needed for get_subsets()\n",
    "STIR.AcquisitionData.set_storage_scheme('memory')"
   ]
  },
  {
   "cell_type": "code",
   "execution_count": null,
   "id": "7",
   "metadata": {},
   "outputs": [],
   "source": [
    "# set-up redirection of STIR messages to files\n",
    "_ = STIR.MessageRedirector('info.txt', 'warnings.txt', 'errors.txt')"
   ]
  },
  {
   "cell_type": "code",
   "execution_count": null,
   "id": "8",
   "metadata": {},
   "outputs": [],
   "source": [
    "# fewer message from STIR and SIRF\n",
    "STIR.set_verbosity(0)"
   ]
  },
  {
   "cell_type": "code",
   "execution_count": null,
   "id": "9",
   "metadata": {},
   "outputs": [],
   "source": [
    "#%% some handy function definitions\n",
    "def plot_2d_image(idx,vol,title,clims=None,cmap=\"viridis\"):\n",
    "    \"\"\"Customized version of subplot to plot 2D image\"\"\"\n",
    "    plt.subplot(*idx)\n",
    "    plt.imshow(vol,cmap=cmap)\n",
    "    if not clims is None:\n",
    "        plt.clim(clims)\n",
    "    plt.colorbar(shrink=.4)\n",
    "    plt.title(title)\n",
    "    plt.axis(\"off\")\n",
    "\n",
    "FOV_filter=STIR.TruncateToCylinderProcessor()"
   ]
  },
  {
   "cell_type": "markdown",
   "id": "10",
   "metadata": {},
   "source": [
    "## Try it with the thorax_single_slice data"
   ]
  },
  {
   "cell_type": "code",
   "execution_count": null,
   "id": "11",
   "metadata": {},
   "outputs": [],
   "source": [
    "# define the directory with input files for this notebook\n",
    "data_path = os.path.join(examples_data_path('PET'), 'thorax_single_slice')"
   ]
  },
  {
   "cell_type": "code",
   "execution_count": null,
   "id": "12",
   "metadata": {},
   "outputs": [],
   "source": [
    "#%% Read in images\n",
    "image = STIR.ImageData(os.path.join(data_path, 'emission.hv'))*0.05\n",
    "attn_image = STIR.ImageData(os.path.join(data_path, 'attenuation.hv'))\n",
    "template = STIR.AcquisitionData(os.path.join(data_path, 'template_sinogram.hs'))"
   ]
  },
  {
   "cell_type": "code",
   "execution_count": null,
   "id": "13",
   "metadata": {},
   "outputs": [],
   "source": [
    "#%% save max for future displays\n",
    "cmax = image.max()*.6"
   ]
  },
  {
   "cell_type": "code",
   "execution_count": null,
   "id": "14",
   "metadata": {},
   "outputs": [],
   "source": [
    "# create attenuation\n",
    "acq_model_for_attn = STIR.AcquisitionModelUsingRayTracingMatrix()\n",
    "asm_attn = STIR.AcquisitionSensitivityModel(attn_image, acq_model_for_attn)\n",
    "asm_attn.set_up(template)\n",
    "attn_factors = asm_attn.forward(template.get_uniform_copy(1))\n",
    "asm_attn = STIR.AcquisitionSensitivityModel(attn_factors)\n",
    "# set it up\n",
    "asm_attn.set_up(template)\n",
    "# use \"standard\" terminology for multiplicative factor (Note: there is no norm here)\n",
    "mult_factors = attn_factors\n",
    "# fake background (randoms+scatter)\n",
    "background = template.get_uniform_copy(1)\n",
    "# find additive_term for the acq_model\n",
    "additive_term = background.clone()\n",
    "asm_attn.normalise(additive_term)\n",
    "\n",
    "# create acquisition model\n",
    "acq_model = STIR.AcquisitionModelUsingRayTracingMatrix()\n",
    "# we will increase the number of rays used for every Line-of-Response (LOR) as an example\n",
    "# (it is not required for the exercise of course)\n",
    "acq_model.set_num_tangential_LORs(5)\n",
    "acq_model.set_acquisition_sensitivity(asm_attn)\n",
    "acq_model.set_additive_term(additive_term)\n",
    "# set-up\n",
    "acq_model.set_up(template,image)\n",
    "\n",
    "#%% simulate some data using forward projection\n",
    "acquired_data=acq_model.forward(image)\n",
    "\n",
    "print(acquired_data.max())"
   ]
  },
  {
   "cell_type": "code",
   "execution_count": null,
   "id": "15",
   "metadata": {},
   "outputs": [],
   "source": [
    "initial_image=image.get_uniform_copy(cmax / 4)\n",
    "FOV_filter.apply(initial_image)\n",
    "# display\n",
    "im_slice = initial_image.dimensions()[0] // 2"
   ]
  },
  {
   "cell_type": "code",
   "execution_count": null,
   "id": "16",
   "metadata": {},
   "outputs": [],
   "source": [
    "def initial_OSEM(acquired_data, additive_term, mult_factors, initial_image):\n",
    "    num_subsets = 1\n",
    "    data,acq_models, obj_funs = partitioner.data_partition(acquired_data, additive_term, mult_factors, num_subsets)\n",
    "\n",
    "    obj_fun = STIR.make_Poisson_loglikelihood(data[0])\n",
    "    obj_fun.set_acquisition_model(acq_models[0])\n",
    "    recon = STIR.OSMAPOSLReconstructor()\n",
    "    recon.set_objective_function(obj_fun)\n",
    "    recon.set_current_estimate(initial_image)\n",
    "    # some arbitrary numbers here\n",
    "    recon.set_num_subsets(2)\n",
    "    num_subiters = 14\n",
    "    recon.set_num_subiterations(num_subiters)\n",
    "    recon.set_up(initial_image)\n",
    "    recon.process()\n",
    "    return recon.get_output()"
   ]
  },
  {
   "cell_type": "code",
   "execution_count": null,
   "id": "17",
   "metadata": {},
   "outputs": [],
   "source": [
    " OSEM_image = initial_OSEM(acquired_data, additive_term, mult_factors, initial_image)"
   ]
  },
  {
   "cell_type": "code",
   "execution_count": null,
   "id": "18",
   "metadata": {},
   "outputs": [],
   "source": [
    "plt.figure()\n",
    "plot_2d_image([1,1,1], OSEM_image.as_array()[im_slice,:,:], 'OSEM',[0,cmax])"
   ]
  },
  {
   "cell_type": "markdown",
   "id": "19",
   "metadata": {},
   "source": [
    "### partition data and construct prior"
   ]
  },
  {
   "cell_type": "code",
   "execution_count": null,
   "id": "20",
   "metadata": {},
   "outputs": [],
   "source": [
    "num_subsets = 7\n",
    "data,acq_models, obj_funs = partitioner.data_partition(acquired_data,additive_term,mult_factors, num_subsets)"
   ]
  },
  {
   "cell_type": "code",
   "execution_count": null,
   "id": "21",
   "metadata": {},
   "outputs": [],
   "source": [
    "def add_RDP(beta, epsilon, obj_funs):\n",
    "    '''\n",
    "    construct RDP prior and add it evenly to every objective function.\n",
    "    \n",
    "    WARNING: return prior with beta/num_subsets (as currently needed for BSREM implementations)\n",
    "    '''\n",
    "    prior = STIR.RelativeDifferencePrior()\n",
    "    # need to make it differentiable\n",
    "    prior.set_epsilon(epsilon)\n",
    "    # evenly distribute prior over subsets\n",
    "    prior.set_penalisation_factor(beta / len(obj_funs));\n",
    "    prior.set_up(initial_image)\n",
    "    for f in obj_funs:\n",
    "        f.set_prior(prior)\n",
    "    return prior"
   ]
  },
  {
   "cell_type": "code",
   "execution_count": null,
   "id": "22",
   "metadata": {},
   "outputs": [],
   "source": [
    "prior = add_RDP(1, initial_image.max()*1e-4, obj_funs)"
   ]
  },
  {
   "cell_type": "markdown",
   "id": "23",
   "metadata": {},
   "source": [
    "### compare 2 BSREM implementations"
   ]
  },
  {
   "cell_type": "markdown",
   "id": "24",
   "metadata": {},
   "source": [
    "Note: intentionally setting update_objective_intervals to be not a multiple of num_subsets such that we can see the oscillations"
   ]
  },
  {
   "cell_type": "code",
   "execution_count": null,
   "id": "25",
   "metadata": {},
   "outputs": [],
   "source": [
    "bsrem1 = BSREM1(data, obj_funs, initial=OSEM_image, initial_step_size=1, relaxation_eta=.05, update_objective_interval=5)\n",
    "bsrem1.max_iteration=300\n",
    "bsrem1.run()"
   ]
  },
  {
   "cell_type": "code",
   "execution_count": null,
   "id": "26",
   "metadata": {},
   "outputs": [],
   "source": [
    "bsrem2=BSREM2(data, acq_models, prior, initial=OSEM_image, initial_step_size=1, relaxation_eta=.05, update_objective_interval=5)\n",
    "bsrem2.max_iteration = bsrem1.max_iteration\n",
    "bsrem2.run()"
   ]
  },
  {
   "cell_type": "code",
   "execution_count": null,
   "id": "27",
   "metadata": {},
   "outputs": [],
   "source": [
    "plt.figure()\n",
    "tmp1=bsrem1.x\n",
    "tmp2=bsrem2.x\n",
    "plot_2d_image([1,2,1], tmp1.as_array()[im_slice,:,:], 'BSREM1 result',[0, cmax])\n",
    "plot_2d_image([1,2,2], (tmp1-tmp2).as_array()[im_slice,:,:], 'diff',[-cmax/100, cmax/100])"
   ]
  },
  {
   "cell_type": "markdown",
   "id": "28",
   "metadata": {},
   "source": [
    "Plot objective function for both implementations. If all well, you should see only 1 curve"
   ]
  },
  {
   "cell_type": "code",
   "execution_count": null,
   "id": "29",
   "metadata": {},
   "outputs": [],
   "source": [
    "plt.figure()\n",
    "plt.plot(bsrem1.iterations, bsrem1.loss)\n",
    "plt.plot(bsrem2.iterations, bsrem2.loss);\n"
   ]
  },
  {
   "cell_type": "code",
   "execution_count": null,
   "id": "30",
   "metadata": {},
   "outputs": [],
   "source": [
    "plt.close('all')"
   ]
  },
  {
   "cell_type": "markdown",
   "id": "31",
   "metadata": {},
   "source": [
    "## Now use the NEMA IQ data acquired on the mMR"
   ]
  },
  {
   "cell_type": "markdown",
   "id": "32",
   "metadata": {},
   "source": [
    "The following names assume the data for the acquisition model has been written already by a preprocessing script. You might need to adjust this to your location and set-up."
   ]
  },
  {
   "cell_type": "code",
   "execution_count": null,
   "id": "33",
   "metadata": {},
   "outputs": [],
   "source": [
    "os.chdir('/home/kris/data/mMR/NEMA_IQ/tmpl')"
   ]
  },
  {
   "cell_type": "code",
   "execution_count": null,
   "id": "34",
   "metadata": {},
   "outputs": [],
   "source": [
    "acquired_data = STIR.AcquisitionData('prompts.hs')\n",
    "additive_term = STIR.AcquisitionData('additive_term.hs')\n",
    "mult_factors = STIR.AcquisitionData('mult_factors.hs')\n",
    "\n",
    "# somewhat crazy initialisation, currently hand-tuned scale\n",
    "initial_image = STIR.ImageData('20170809_NEMA_MUMAP_UCL.hv')+.5"
   ]
  },
  {
   "cell_type": "code",
   "execution_count": null,
   "id": "35",
   "metadata": {},
   "outputs": [],
   "source": [
    "# crop it a bit to avoid wasting time\n",
    "initial_image=initial_image.zoom_image(zooms=(1,1,1), offsets_in_mm=(0,0,0), size=(-1,200,200))"
   ]
  },
  {
   "cell_type": "code",
   "execution_count": null,
   "id": "36",
   "metadata": {},
   "outputs": [],
   "source": [
    "# hand-tuned cmax (TODO fix)\n",
    "cmax = .15\n",
    "im_slice = 70"
   ]
  },
  {
   "cell_type": "code",
   "execution_count": null,
   "id": "37",
   "metadata": {},
   "outputs": [],
   "source": [
    "OSEM_image = initial_OSEM(acquired_data, additive_term, mult_factors, initial_image)"
   ]
  },
  {
   "cell_type": "code",
   "execution_count": null,
   "id": "38",
   "metadata": {},
   "outputs": [],
   "source": [
    "plt.figure()\n",
    "plot_2d_image([1,2,1], OSEM_image.as_array()[:,:,OSEM_image.dimensions()[1]//2 - 5], 'OSEM sagittal',[0,cmax])\n",
    "plot_2d_image([1,2,2], OSEM_image.as_array()[im_slice,:,:], 'OSEM transverse',[0,cmax])"
   ]
  },
  {
   "cell_type": "code",
   "execution_count": null,
   "id": "39",
   "metadata": {},
   "outputs": [],
   "source": [
    "# need to truncate max because of spurious high values at the edge of FOV\n",
    "# TODO fix\n",
    "OSEM_image = OSEM_image.minimum(.3)"
   ]
  },
  {
   "cell_type": "code",
   "execution_count": null,
   "id": "40",
   "metadata": {},
   "outputs": [],
   "source": [
    "num_subsets = 7\n",
    "data,acq_models, obj_funs = partitioner.data_partition(acquired_data, additive_term, mult_factors, num_subsets)"
   ]
  },
  {
   "cell_type": "code",
   "execution_count": null,
   "id": "41",
   "metadata": {},
   "outputs": [],
   "source": [
    "prior = add_RDP(5, initial_image.max()*1e-4, obj_funs)"
   ]
  },
  {
   "cell_type": "code",
   "execution_count": null,
   "id": "42",
   "metadata": {},
   "outputs": [],
   "source": [
    "bsrem1 = BSREM1(data, obj_funs, initial=OSEM_image, initial_step_size=1, relaxation_eta=.05, update_objective_interval=10)\n",
    "bsrem1.max_iteration=80\n",
    "bsrem1.run()"
   ]
  },
  {
   "cell_type": "code",
   "execution_count": null,
   "id": "43",
   "metadata": {},
   "outputs": [],
   "source": [
    "plt.figure()\n",
    "plot_2d_image([1,2,1], OSEM_image.as_array()[im_slice,:,:], 'initial OSEM',[0, cmax])\n",
    "plot_2d_image([1,2,2], bsrem1.x.as_array()[im_slice,:,:], 'BSREM',[0, cmax])"
   ]
  },
  {
   "cell_type": "code",
   "execution_count": null,
   "id": "44",
   "metadata": {},
   "outputs": [],
   "source": [
    "plt.figure()\n",
    "plt.plot(bsrem1.iterations, bsrem1.loss);"
   ]
  },
  {
   "cell_type": "code",
   "execution_count": null,
   "id": "45",
   "metadata": {},
   "outputs": [],
   "source": [
    "plt.close('all')"
   ]
  }
 ],
 "metadata": {
  "kernelspec": {
   "display_name": "Python 3",
   "language": "python",
   "name": "python3"
  },
  "language_info": {
   "codemirror_mode": {
    "name": "ipython"
   },
   "file_extension": ".py",
   "mimetype": "text/x-python",
   "name": "python",
   "nbconvert_exporter": "python"
  }
 },
 "nbformat": 4,
 "nbformat_minor": 5
}
