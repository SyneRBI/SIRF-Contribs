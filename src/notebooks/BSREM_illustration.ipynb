{
 "cells": [
  {
   "cell_type": "markdown",
   "id": "0",
   "metadata": {},
   "source": [
    "# Demonstration of basic BSREM implementation with SIRF\n",
    "\n",
    "This notebook is largely based on the `display_and_projection` notebook from the SIRF-Exercises to simulate some data.\n",
    "Then it proceeds with reconstructing it with BSREM."
   ]
  },
  {
   "cell_type": "markdown",
   "id": "1",
   "metadata": {},
   "source": [
    "Author: Kris Thielemans  \n",
    "\n",
    "CCP SyneRBI Synergistic Image Reconstruction Framework (SIRF).  \n",
    "Copyright 2015 - 2017 Rutherford Appleton Laboratory STFC.  \n",
    "Copyright 2015 - 2018, 2021, 2024 University College London.\n",
    "\n",
    "This is software developed for the Collaborative Computational\n",
    "Project in Synergistic Reconstruction for Biomedical Imaging\n",
    "(http://www.ccpsynerbi.ac.uk/).\n",
    "\n",
    "SPDX-License-Identifier: Apache-2.0"
   ]
  },
  {
   "cell_type": "code",
   "execution_count": 1,
   "id": "2",
   "metadata": {},
   "outputs": [],
   "source": [
    "#%% make sure figures appears inline and animations works\n",
    "# %matplotlib widget"
   ]
  },
  {
   "cell_type": "code",
   "execution_count": 2,
   "id": "3",
   "metadata": {},
   "outputs": [],
   "source": [
    "%load_ext autoreload\n",
    "%autoreload 2"
   ]
  },
  {
   "cell_type": "code",
   "execution_count": 3,
   "id": "4",
   "metadata": {},
   "outputs": [],
   "source": [
    "#%% Initial imports etc\n",
    "import numpy\n",
    "import matplotlib.pyplot as plt\n",
    "import os\n",
    "import sys\n",
    "import sirf.STIR as STIR\n",
    "from sirf.Utilities import examples_data_path\n",
    "#from sirf_exercises import exercises_data_path\n",
    "\n",
    "from cil.utilities.display import show2D"
   ]
  },
  {
   "cell_type": "markdown",
   "id": "23ed73ab-18a4-4a2d-8e01-ed5ecbc49690",
   "metadata": {},
   "source": [
    "Import functionality from the Python files in SIRF-Contribs.\n",
    "(Note that in most set-ups, this will be from the installed files.)"
   ]
  },
  {
   "cell_type": "code",
   "execution_count": 4,
   "id": "5",
   "metadata": {},
   "outputs": [],
   "source": [
    "from sirf.contrib.partitioner import partitioner\n",
    "from sirf.contrib.BSREM.BSREM import BSREM1\n",
    "from sirf.contrib.BSREM.BSREM import BSREM2"
   ]
  },
  {
   "cell_type": "code",
   "execution_count": 5,
   "id": "6",
   "metadata": {},
   "outputs": [],
   "source": [
    "# Needed for get_subsets()\n",
    "STIR.AcquisitionData.set_storage_scheme('memory')"
   ]
  },
  {
   "cell_type": "code",
   "execution_count": 6,
   "id": "7",
   "metadata": {},
   "outputs": [],
   "source": [
    "# set-up redirection of STIR messages to files\n",
    "_ = STIR.MessageRedirector('info.txt', 'warnings.txt', 'errors.txt')"
   ]
  },
  {
   "cell_type": "code",
   "execution_count": 7,
   "id": "8",
   "metadata": {},
   "outputs": [],
   "source": [
    "# fewer message from STIR and SIRF\n",
    "STIR.set_verbosity(0)"
   ]
  },
  {
   "cell_type": "code",
   "execution_count": 8,
   "id": "9",
   "metadata": {},
   "outputs": [],
   "source": [
    "#%% some handy function definitions\n",
    "def plot_2d_image(idx,vol,title,clims=None,cmap=\"viridis\"):\n",
    "    \"\"\"Customized version of subplot to plot 2D image\"\"\"\n",
    "    plt.subplot(*idx)\n",
    "    plt.imshow(vol,cmap=cmap)\n",
    "    if not clims is None:\n",
    "        plt.clim(clims)\n",
    "    plt.colorbar(shrink=.4)\n",
    "    plt.title(title)\n",
    "    plt.axis(\"off\")\n",
    "\n",
    "FOV_filter=STIR.TruncateToCylinderProcessor()"
   ]
  },
  {
   "cell_type": "markdown",
   "id": "10",
   "metadata": {},
   "source": [
    "## Try it with the thorax_single_slice data"
   ]
  },
  {
   "cell_type": "code",
   "execution_count": 9,
   "id": "11",
   "metadata": {},
   "outputs": [],
   "source": [
    "# define the directory with input files for this notebook\n",
    "data_path = os.path.join(examples_data_path('PET'), 'thorax_single_slice')"
   ]
  },
  {
   "cell_type": "code",
   "execution_count": 10,
   "id": "12",
   "metadata": {},
   "outputs": [
    {
     "name": "stderr",
     "output_type": "stream",
     "text": [
      "\n",
      "WARNING: RadioNuclideDB::get_radionuclide: unknown modality. Returning \"unknown\" radionuclide.\n"
     ]
    }
   ],
   "source": [
    "#%% Read in images\n",
    "image = STIR.ImageData(os.path.join(data_path, 'emission.hv'))*0.05\n",
    "attn_image = STIR.ImageData(os.path.join(data_path, 'attenuation.hv'))\n",
    "template = STIR.AcquisitionData(os.path.join(data_path, 'template_sinogram.hs'))"
   ]
  },
  {
   "cell_type": "code",
   "execution_count": 11,
   "id": "13",
   "metadata": {},
   "outputs": [],
   "source": [
    "#%% save max for future displays\n",
    "cmax = image.max()*.6"
   ]
  },
  {
   "cell_type": "code",
   "execution_count": 12,
   "id": "14",
   "metadata": {},
   "outputs": [
    {
     "name": "stdout",
     "output_type": "stream",
     "text": [
      "9.694265\n"
     ]
    }
   ],
   "source": [
    "# create attenuation\n",
    "acq_model_for_attn = STIR.AcquisitionModelUsingRayTracingMatrix()\n",
    "asm_attn = STIR.AcquisitionSensitivityModel(attn_image, acq_model_for_attn)\n",
    "asm_attn.set_up(template)\n",
    "attn_factors = asm_attn.forward(template.get_uniform_copy(1))\n",
    "asm_attn = STIR.AcquisitionSensitivityModel(attn_factors)\n",
    "# set it up\n",
    "asm_attn.set_up(template)\n",
    "# use \"standard\" terminology for multiplicative factor (Note: there is no norm here)\n",
    "mult_factors = attn_factors\n",
    "# fake background (randoms+scatter)\n",
    "background = template.get_uniform_copy(1)\n",
    "# find additive_term for the acq_model\n",
    "additive_term = background.clone()\n",
    "asm_attn.normalise(additive_term)\n",
    "\n",
    "# create acquisition model\n",
    "acq_model = STIR.AcquisitionModelUsingRayTracingMatrix()\n",
    "# we will increase the number of rays used for every Line-of-Response (LOR) as an example\n",
    "# (it is not required for the exercise of course)\n",
    "acq_model.set_num_tangential_LORs(5)\n",
    "acq_model.set_acquisition_sensitivity(asm_attn)\n",
    "acq_model.set_additive_term(additive_term)\n",
    "# set-up\n",
    "acq_model.set_up(template,image)\n",
    "\n",
    "#%% simulate some data using forward projection\n",
    "acquired_data=acq_model.forward(image)\n",
    "\n",
    "print(acquired_data.max())"
   ]
  },
  {
   "cell_type": "code",
   "execution_count": 13,
   "id": "15",
   "metadata": {},
   "outputs": [],
   "source": [
    "initial_image=image.get_uniform_copy(cmax / 4)\n",
    "FOV_filter.apply(initial_image)\n",
    "# display\n",
    "im_slice = initial_image.dimensions()[0] // 2"
   ]
  },
  {
   "cell_type": "code",
   "execution_count": 14,
   "id": "16",
   "metadata": {},
   "outputs": [],
   "source": [
    "def initial_OSEM(acquired_data, additive_term, mult_factors, initial_image):\n",
    "    num_subsets = 1\n",
    "    data,acq_models, obj_funs = partitioner.data_partition(acquired_data, additive_term, mult_factors, num_subsets)\n",
    "\n",
    "    obj_fun = STIR.make_Poisson_loglikelihood(data[0])\n",
    "    obj_fun.set_acquisition_model(acq_models[0])\n",
    "    recon = STIR.OSMAPOSLReconstructor()\n",
    "    recon.set_objective_function(obj_fun)\n",
    "    recon.set_current_estimate(initial_image)\n",
    "    # some arbitrary numbers here\n",
    "    recon.set_num_subsets(2)\n",
    "    num_subiters = 14\n",
    "    recon.set_num_subiterations(num_subiters)\n",
    "    recon.set_up(initial_image)\n",
    "    recon.process()\n",
    "    return recon.get_output()"
   ]
  },
  {
   "cell_type": "code",
   "execution_count": 15,
   "id": "17",
   "metadata": {},
   "outputs": [],
   "source": [
    " OSEM_image = initial_OSEM(acquired_data, additive_term, mult_factors, initial_image)"
   ]
  },
  {
   "cell_type": "code",
   "execution_count": 16,
   "id": "18",
   "metadata": {},
   "outputs": [
    {
     "data": {
      "image/png": "[encoded data removed]",
      "text/plain": [
       "<Figure size 1500x1500 with 3 Axes>"
      ]
     },
     "metadata": {},
     "output_type": "display_data"
    },
    {
     "data": {
      "text/plain": [
       "<cil.utilities.display.show2D at 0x7fe53563ff10>"
      ]
     },
     "execution_count": 16,
     "metadata": {},
     "output_type": "execute_result"
    }
   ],
   "source": [
    "# plt.figure()\n",
    "# plot_2d_image([1,1,1], OSEM_image.as_array()[im_slice,:,:], 'OSEM',[0,cmax])\n",
    "show2D(OSEM_image.as_array()[im_slice,:,:], title='OSEM',fix_range=(0,cmax))"
   ]
  },
  {
   "cell_type": "markdown",
   "id": "19",
   "metadata": {},
   "source": [
    "### partition data and construct prior"
   ]
  },
  {
   "cell_type": "code",
   "execution_count": 17,
   "id": "20",
   "metadata": {},
   "outputs": [],
   "source": [
    "num_subsets = 7\n",
    "data,acq_models, obj_funs = partitioner.data_partition(acquired_data,additive_term,mult_factors, num_subsets)"
   ]
  },
  {
   "cell_type": "code",
   "execution_count": 18,
   "id": "21",
   "metadata": {},
   "outputs": [],
   "source": [
    "def add_RDP(beta, epsilon, obj_funs):\n",
    "    '''\n",
    "    construct RDP prior and add it evenly to every objective function.\n",
    "    \n",
    "    WARNING: return prior with beta/num_subsets (as currently needed for BSREM implementations)\n",
    "    '''\n",
    "    prior = STIR.RelativeDifferencePrior()\n",
    "    # need to make it differentiable\n",
    "    prior.set_epsilon(epsilon)\n",
    "    # evenly distribute prior over subsets\n",
    "    prior.set_penalisation_factor(beta / len(obj_funs));\n",
    "    prior.set_up(initial_image)\n",
    "    for f in obj_funs:\n",
    "        f.set_prior(prior)\n",
    "    return prior"
   ]
  },
  {
   "cell_type": "code",
   "execution_count": 19,
   "id": "22",
   "metadata": {},
   "outputs": [],
   "source": [
    "prior = add_RDP(1, initial_image.max()*1e-4, obj_funs)"
   ]
  },
  {
   "cell_type": "markdown",
   "id": "23",
   "metadata": {},
   "source": [
    "### compare 2 BSREM implementations"
   ]
  },
  {
   "cell_type": "markdown",
   "id": "24",
   "metadata": {},
   "source": [
    "Note: intentionally setting update_objective_intervals to be not a multiple of num_subsets such that we can see the oscillations"
   ]
  },
  {
   "cell_type": "code",
   "execution_count": 20,
   "id": "25",
   "metadata": {},
   "outputs": [
    {
     "name": "stderr",
     "output_type": "stream",
     "text": [
      "/tmp/ipykernel_114477/2861936778.py:3: DeprecationWarning: `run()` missing `iterations`\n",
      "  bsrem1.run()\n"
     ]
    },
    {
     "data": {
      "application/vnd.jupyter.widget-view+json": {
       "model_id": "5b2dfc5ed10d4aca94c2bc90328850a1",
       "version_major": 2,
       "version_minor": 0
      },
      "text/plain": [
       "  0%|          | 0/300 [00:00<?, ?it/s]"
      ]
     },
     "metadata": {},
     "output_type": "display_data"
    }
   ],
   "source": [
    "bsrem1 = BSREM1(data, obj_funs, initial=OSEM_image, initial_step_size=1, relaxation_eta=.05, update_objective_interval=5)\n",
    "bsrem1.max_iteration=300\n",
    "bsrem1.run()"
   ]
  },
  {
   "cell_type": "code",
   "execution_count": 21,
   "id": "26",
   "metadata": {},
   "outputs": [
    {
     "name": "stderr",
     "output_type": "stream",
     "text": [
      "/tmp/ipykernel_114477/2294716043.py:3: DeprecationWarning: `run()` missing `iterations`\n",
      "  bsrem2.run()\n"
     ]
    },
    {
     "data": {
      "application/vnd.jupyter.widget-view+json": {
       "model_id": "163b86f091e3450bb2e589c519aa40f6",
       "version_major": 2,
       "version_minor": 0
      },
      "text/plain": [
       "  0%|          | 0/300 [00:00<?, ?it/s]"
      ]
     },
     "metadata": {},
     "output_type": "display_data"
    }
   ],
   "source": [
    "bsrem2=BSREM2(data, acq_models, prior, initial=OSEM_image, initial_step_size=1, relaxation_eta=.05, update_objective_interval=5)\n",
    "bsrem2.max_iteration = bsrem1.max_iteration\n",
    "bsrem2.run()"
   ]
  },
  {
   "cell_type": "code",
   "execution_count": 23,
   "id": "27",
   "metadata": {},
   "outputs": [
    {
     "data": {
      "text/plain": [
       "<Figure size 640x480 with 0 Axes>"
      ]
     },
     "metadata": {},
     "output_type": "display_data"
    },
    {
     "data": {
      "image/png": "[encoded data removed]",
      "text/plain": [
       "<Figure size 1500x1500 with 4 Axes>"
      ]
     },
     "metadata": {},
     "output_type": "display_data"
    },
    {
     "data": {
      "text/plain": [
       "<cil.utilities.display.show2D at 0x7fe5352f2140>"
      ]
     },
     "execution_count": 23,
     "metadata": {},
     "output_type": "execute_result"
    }
   ],
   "source": [
    "plt.figure()\n",
    "tmp1=bsrem1.x\n",
    "tmp2=bsrem2.x\n",
    "# plot_2d_image([1,2,1], tmp1.as_array()[im_slice,:,:], 'BSREM1 result',[0, cmax])\n",
    "# plot_2d_image([1,2,2], (tmp1-tmp2).as_array()[im_slice,:,:], 'diff',[-cmax/100, cmax/100])\n",
    "show2D([ tmp1.as_array()[im_slice,:,:], (tmp1-tmp2).as_array()[im_slice,:,:]], \n",
    "       title=['OSEM', 'DIFF'],fix_range=[(0,cmax), (-cmax/100, cmax/100)])"
   ]
  },
  {
   "cell_type": "markdown",
   "id": "28",
   "metadata": {},
   "source": [
    "Plot objective function for both implementations. If all well, you should see only 1 curve"
   ]
  },
  {
   "cell_type": "code",
   "execution_count": 24,
   "id": "29",
   "metadata": {},
   "outputs": [
    {
     "ename": "AttributeError",
     "evalue": "'tuple' object has no attribute 'shape'",
     "output_type": "error",
     "traceback": [
      "\u001b[0;31m---------------------------------------------------------------------------\u001b[0m",
      "\u001b[0;31mAttributeError\u001b[0m                            Traceback (most recent call last)",
      "Cell \u001b[0;32mIn[24], line 3\u001b[0m\n\u001b[1;32m      1\u001b[0m \u001b[38;5;28;01mfrom\u001b[39;00m \u001b[38;5;21;01mcil\u001b[39;00m\u001b[38;5;21;01m.\u001b[39;00m\u001b[38;5;21;01mutilities\u001b[39;00m\u001b[38;5;21;01m.\u001b[39;00m\u001b[38;5;21;01mdisplay\u001b[39;00m \u001b[38;5;28;01mimport\u001b[39;00m show1D\n\u001b[0;32m----> 3\u001b[0m \u001b[43mshow1D\u001b[49m\u001b[43m(\u001b[49m\u001b[43m[\u001b[49m\u001b[43m(\u001b[49m\u001b[43mbsrem1\u001b[49m\u001b[38;5;241;43m.\u001b[39;49m\u001b[43miterations\u001b[49m\u001b[43m,\u001b[49m\u001b[43m \u001b[49m\u001b[43mbsrem1\u001b[49m\u001b[38;5;241;43m.\u001b[39;49m\u001b[43mloss\u001b[49m\u001b[43m)\u001b[49m\u001b[43m,\u001b[49m\u001b[43m \u001b[49m\u001b[43m(\u001b[49m\u001b[43mbsrem2\u001b[49m\u001b[38;5;241;43m.\u001b[39;49m\u001b[43miterations\u001b[49m\u001b[43m,\u001b[49m\u001b[43m \u001b[49m\u001b[43mbsrem2\u001b[49m\u001b[38;5;241;43m.\u001b[39;49m\u001b[43mloss\u001b[49m\u001b[43m)\u001b[49m\u001b[43m]\u001b[49m\u001b[43m,\u001b[49m\u001b[43m \u001b[49m\u001b[43mtitle\u001b[49m\u001b[38;5;241;43m=\u001b[39;49m\u001b[43m[\u001b[49m\u001b[38;5;124;43m'\u001b[39;49m\u001b[38;5;124;43mBSREM1\u001b[39;49m\u001b[38;5;124;43m'\u001b[39;49m\u001b[43m,\u001b[49m\u001b[43m \u001b[49m\u001b[38;5;124;43m'\u001b[39;49m\u001b[38;5;124;43mBSREM2\u001b[39;49m\u001b[38;5;124;43m'\u001b[39;49m\u001b[43m]\u001b[49m\u001b[43m)\u001b[49m\n\u001b[1;32m      4\u001b[0m \u001b[38;5;66;03m# plt.figure()\u001b[39;00m\n\u001b[1;32m      5\u001b[0m \u001b[38;5;66;03m# plt.plot(bsrem1.iterations, bsrem1.loss)\u001b[39;00m\n\u001b[1;32m      6\u001b[0m \u001b[38;5;66;03m# plt.plot(bsrem2.iterations, bsrem2.loss);\u001b[39;00m\n",
      "File \u001b[0;32m/opt/SIRF-SuperBuild/INSTALL/python/cil/utilities/display.py:174\u001b[0m, in \u001b[0;36mshow1D.__init__\u001b[0;34m(self, data, slice_list, label, title, line_colours, line_styles, axis_labels, size)\u001b[0m\n\u001b[1;32m    170\u001b[0m \u001b[38;5;28;01mdef\u001b[39;00m \u001b[38;5;21m__init__\u001b[39m(\u001b[38;5;28mself\u001b[39m, data, slice_list\u001b[38;5;241m=\u001b[39m\u001b[38;5;28;01mNone\u001b[39;00m, label\u001b[38;5;241m=\u001b[39m\u001b[38;5;124m'\u001b[39m\u001b[38;5;124mdefault\u001b[39m\u001b[38;5;124m'\u001b[39m, title\u001b[38;5;241m=\u001b[39m\u001b[38;5;28;01mNone\u001b[39;00m,\n\u001b[1;32m    171\u001b[0m              line_colours\u001b[38;5;241m=\u001b[39m\u001b[38;5;28;01mNone\u001b[39;00m, line_styles\u001b[38;5;241m=\u001b[39m\u001b[38;5;28;01mNone\u001b[39;00m, axis_labels\u001b[38;5;241m=\u001b[39m(\u001b[38;5;124m'\u001b[39m\u001b[38;5;124mIndex\u001b[39m\u001b[38;5;124m'\u001b[39m, \u001b[38;5;124m'\u001b[39m\u001b[38;5;124mValue\u001b[39m\u001b[38;5;124m'\u001b[39m),\n\u001b[1;32m    172\u001b[0m              size\u001b[38;5;241m=\u001b[39m(\u001b[38;5;241m8\u001b[39m,\u001b[38;5;241m6\u001b[39m)):\n\u001b[0;32m--> 174\u001b[0m     \u001b[38;5;28mself\u001b[39m\u001b[38;5;241m.\u001b[39mfigure \u001b[38;5;241m=\u001b[39m \u001b[38;5;28;43mself\u001b[39;49m\u001b[38;5;241;43m.\u001b[39;49m\u001b[43m_show1d\u001b[49m\u001b[43m(\u001b[49m\u001b[43mdata\u001b[49m\u001b[43m,\u001b[49m\u001b[43m \u001b[49m\u001b[43mslice_list\u001b[49m\u001b[43m,\u001b[49m\u001b[43m \u001b[49m\u001b[43mlabels\u001b[49m\u001b[38;5;241;43m=\u001b[39;49m\u001b[43mlabel\u001b[49m\u001b[43m,\u001b[49m\u001b[43m \u001b[49m\u001b[43mtitle\u001b[49m\u001b[38;5;241;43m=\u001b[39;49m\u001b[43mtitle\u001b[49m\u001b[43m,\u001b[49m\n\u001b[1;32m    175\u001b[0m \u001b[43m                               \u001b[49m\u001b[43mline_colours\u001b[49m\u001b[38;5;241;43m=\u001b[39;49m\u001b[43mline_colours\u001b[49m\u001b[43m,\u001b[49m\u001b[43m \u001b[49m\u001b[43mline_styles\u001b[49m\u001b[38;5;241;43m=\u001b[39;49m\u001b[43mline_styles\u001b[49m\u001b[43m,\u001b[49m\n\u001b[1;32m    176\u001b[0m \u001b[43m                               \u001b[49m\u001b[43maxis_labels\u001b[49m\u001b[38;5;241;43m=\u001b[39;49m\u001b[43maxis_labels\u001b[49m\u001b[43m,\u001b[49m\u001b[43m \u001b[49m\u001b[43mplot_size\u001b[49m\u001b[38;5;241;43m=\u001b[39;49m\u001b[43msize\u001b[49m\u001b[43m)\u001b[49m\n",
      "File \u001b[0;32m/opt/SIRF-SuperBuild/INSTALL/python/cil/utilities/display.py:344\u001b[0m, in \u001b[0;36mshow1D._show1d\u001b[0;34m(self, data, slice_list, labels, title, line_colours, line_styles, axis_labels, plot_size)\u001b[0m\n\u001b[1;32m    342\u001b[0m         \u001b[38;5;28;01melse\u001b[39;00m:\n\u001b[1;32m    343\u001b[0m             _lbl \u001b[38;5;241m=\u001b[39m labels[i]\n\u001b[0;32m--> 344\u001b[0m         \u001b[38;5;28;43mself\u001b[39;49m\u001b[38;5;241;43m.\u001b[39;49m\u001b[43m_plot_slice\u001b[49m\u001b[43m(\u001b[49m\u001b[43max\u001b[49m\u001b[43m,\u001b[49m\u001b[43m \u001b[49m\u001b[43m_data\u001b[49m\u001b[43m,\u001b[49m\u001b[43m \u001b[49m\u001b[43mslice_list\u001b[49m\u001b[43m,\u001b[49m\u001b[43m \u001b[49m\u001b[43mlabel\u001b[49m\u001b[38;5;241;43m=\u001b[39;49m\u001b[43m_lbl\u001b[49m\u001b[43m,\u001b[49m\n\u001b[1;32m    345\u001b[0m \u001b[43m                        \u001b[49m\u001b[43mline_colour\u001b[49m\u001b[38;5;241;43m=\u001b[39;49m\u001b[43m_cl\u001b[49m\u001b[43m,\u001b[49m\u001b[43m \u001b[49m\u001b[43mline_style\u001b[49m\u001b[38;5;241;43m=\u001b[39;49m\u001b[43m_ls\u001b[49m\u001b[43m)\u001b[49m\n\u001b[1;32m    347\u001b[0m \u001b[38;5;28;01melif\u001b[39;00m \u001b[38;5;28misinstance\u001b[39m(slice_list[\u001b[38;5;241m0\u001b[39m], \u001b[38;5;28mlist\u001b[39m):\n\u001b[1;32m    349\u001b[0m     \u001b[38;5;28;01mif\u001b[39;00m labels \u001b[38;5;241m==\u001b[39m \u001b[38;5;124m'\u001b[39m\u001b[38;5;124mdefault\u001b[39m\u001b[38;5;124m'\u001b[39m \u001b[38;5;129;01mor\u001b[39;00m labels \u001b[38;5;129;01mis\u001b[39;00m \u001b[38;5;28;01mNone\u001b[39;00m:\n",
      "File \u001b[0;32m/opt/SIRF-SuperBuild/INSTALL/python/cil/utilities/display.py:268\u001b[0m, in \u001b[0;36mshow1D._plot_slice\u001b[0;34m(self, ax, data, slice_list, label, line_colour, line_style)\u001b[0m\n\u001b[1;32m    247\u001b[0m \u001b[38;5;250m\u001b[39m\u001b[38;5;124;03m\"\"\"\u001b[39;00m\n\u001b[1;32m    248\u001b[0m \u001b[38;5;124;03mCreates 1D plots of pixel flux from multi-dimensional data and slicing information.\u001b[39;00m\n\u001b[1;32m    249\u001b[0m \n\u001b[0;32m   (...)\u001b[0m\n\u001b[1;32m    264\u001b[0m \u001b[38;5;124;03m    Linestyle to pass to `matplotlib.axes.Axes.plot`\u001b[39;00m\n\u001b[1;32m    265\u001b[0m \u001b[38;5;124;03m\"\"\"\u001b[39;00m\n\u001b[1;32m    267\u001b[0m is_1d \u001b[38;5;241m=\u001b[39m \u001b[38;5;28;01mFalse\u001b[39;00m\n\u001b[0;32m--> 268\u001b[0m \u001b[38;5;28;01mif\u001b[39;00m \u001b[38;5;28mlen\u001b[39m(\u001b[43mdata\u001b[49m\u001b[38;5;241;43m.\u001b[39;49m\u001b[43mshape\u001b[49m) \u001b[38;5;241m==\u001b[39m \u001b[38;5;241m1\u001b[39m:\n\u001b[1;32m    269\u001b[0m     is_1d \u001b[38;5;241m=\u001b[39m \u001b[38;5;28;01mTrue\u001b[39;00m\n\u001b[1;32m    271\u001b[0m \u001b[38;5;28;01mif\u001b[39;00m \u001b[38;5;28misinstance\u001b[39m(slice_list, \u001b[38;5;28mtuple\u001b[39m):\n",
      "\u001b[0;31mAttributeError\u001b[0m: 'tuple' object has no attribute 'shape'"
     ]
    },
    {
     "data": {
      "image/png": "[encoded data removed]",
      "text/plain": [
       "<Figure size 800x600 with 1 Axes>"
      ]
     },
     "metadata": {},
     "output_type": "display_data"
    }
   ],
   "source": [
    "from cil.utilities.display import show1D\n",
    "\n",
    "show1D([(bsrem1.iterations, bsrem1.loss), (bsrem2.iterations, bsrem2.loss)], title=['BSREM1', 'BSREM2'])\n",
    "# plt.figure()\n",
    "# plt.plot(bsrem1.iterations, bsrem1.loss)\n",
    "# plt.plot(bsrem2.iterations, bsrem2.loss);\n"
   ]
  },
  {
   "cell_type": "code",
   "execution_count": null,
   "id": "30",
   "metadata": {},
   "outputs": [],
   "source": [
    "plt.close('all')"
   ]
  },
  {
   "cell_type": "markdown",
   "id": "31",
   "metadata": {},
   "source": [
    "## Now use the NEMA IQ data acquired on the mMR"
   ]
  },
  {
   "cell_type": "markdown",
   "id": "32",
   "metadata": {},
   "source": [
    "The following names assume the data for the acquisition model has been written already by a preprocessing script. You might need to adjust this to your location and set-up."
   ]
  },
  {
   "cell_type": "code",
   "execution_count": 25,
   "id": "33",
   "metadata": {},
   "outputs": [],
   "source": [
    "os.chdir('/home/jovyan/work/Challenge24/data')"
   ]
  },
  {
   "cell_type": "code",
   "execution_count": 26,
   "id": "34",
   "metadata": {},
   "outputs": [
    {
     "name": "stderr",
     "output_type": "stream",
     "text": [
      "\n",
      "WARNING: KeyParser warning: unrecognized keyword: %comment\n",
      "\n",
      "\n",
      "WARNING: KeyParser warning: unrecognized keyword: %sms-mi header name space\n",
      "\n",
      "\n",
      "WARNING: KeyParser warning: unrecognized keyword: %sinogram data file\n",
      "\n",
      "\n",
      "WARNING: KeyParser warning: unrecognized keyword: %sinogram header file\n",
      "\n",
      "\n",
      "WARNING: KeyParser warning: unrecognized keyword: %study date (yyyy:mm:dd)\n",
      "\n",
      "\n",
      "WARNING: KeyParser warning: unrecognized keyword: %study time (hh:mm:ss gmt+00:00)\n",
      "\n",
      "\n",
      "WARNING: KeyParser warning: unrecognized keyword: %patient orientation\n",
      "\n",
      "\n",
      "WARNING: KeyParser warning: unrecognized keyword: end horizontal bed position (mm)\n",
      "\n",
      "\n",
      "WARNING: KeyParser warning: unrecognized keyword: total number of data sets\n",
      "\n",
      "\n",
      "WARNING: KeyParser warning: unrecognized keyword: %supplementary attributes\n",
      "\n",
      "\n",
      "WARNING: KeyParser warning: unrecognized keyword: isotope gamma halflife (sec)\n",
      "\n",
      "\n",
      "WARNING: KeyParser warning: unrecognized keyword: %supplementary attributes\n",
      "\n",
      "\n",
      "WARNING: KeyParser warning: unrecognized keyword: %reconstruction diameter (mm)\n",
      "\n",
      "\n",
      "WARNING: KeyParser warning: unrecognized keyword: %scanner quantification factor (bq*s/ecat counts)\n",
      "\n",
      "\n",
      "WARNING: KeyParser warning: unrecognized keyword: %decay correction\n",
      "\n",
      "\n",
      "WARNING: KeyParser warning: unrecognized keyword: %decay correction reference date (yyyy:mm:dd)\n",
      "\n",
      "\n",
      "WARNING: KeyParser warning: unrecognized keyword: %decay correction reference time (hh:mm:ss gmt+00:00)\n",
      "\n",
      "\n",
      "WARNING: KeyParser warning: unrecognized keyword: %number of reconstructed beds\n",
      "\n",
      "\n",
      "WARNING: KeyParser warning: unrecognized keyword: %decay correction factor range\n",
      "\n",
      "\n",
      "WARNING: KeyParser warning: unrecognized keyword: %scatter fraction range (%)\n",
      "\n",
      "\n",
      "WARNING: KeyParser warning: unrecognized keyword: %acquisition start time range (sec)\n",
      "\n",
      "\n",
      "WARNING: KeyParser warning: unrecognized keyword: %slice duration range (sec)\n",
      "\n",
      "\n",
      "WARNING: KeyParser warning: unrecognized keyword: slice orientation\n",
      "\n",
      "\n",
      "WARNING: KeyParser warning: unrecognized keyword: method of reconstruction\n",
      "\n",
      "\n",
      "WARNING: KeyParser warning: unrecognized keyword: number of iterations\n",
      "\n",
      "\n",
      "WARNING: KeyParser warning: unrecognized keyword: %number of subsets\n",
      "\n",
      "\n",
      "WARNING: KeyParser warning: unrecognized keyword: filter name\n",
      "\n",
      "\n",
      "WARNING: KeyParser warning: unrecognized keyword: %xy-filter (mm)\n",
      "\n",
      "\n",
      "WARNING: KeyParser warning: unrecognized keyword: %z-filter (mm)\n",
      "\n",
      "\n",
      "WARNING: KeyParser warning: unrecognized keyword: %filter order\n",
      "\n",
      "\n",
      "WARNING: KeyParser warning: unrecognized keyword: %image zoom\n",
      "\n",
      "\n",
      "WARNING: KeyParser warning: unrecognized keyword: %x-offset (mm)\n",
      "\n",
      "\n",
      "WARNING: KeyParser warning: unrecognized keyword: %y-offset (mm)\n",
      "\n",
      "\n",
      "WARNING: KeyParser warning: unrecognized keyword: applied corrections\n",
      "\n",
      "\n",
      "WARNING: KeyParser warning: unrecognized keyword: method of attenuation correction\n",
      "\n",
      "\n",
      "WARNING: KeyParser warning: unrecognized keyword: method of scatter correction\n",
      "\n",
      "\n",
      "WARNING: KeyParser warning: unrecognized keyword: %method of random correction\n",
      "\n",
      "\n",
      "WARNING: KeyParser warning: unrecognized keyword: %total uncorrected singles rate\n",
      "\n",
      "\n",
      "WARNING: KeyParser warning: unrecognized keyword: %image slope\n",
      "\n",
      "\n",
      "WARNING: KeyParser warning: unrecognized keyword: %image intercept\n",
      "\n",
      "\n",
      "WARNING: KeyParser warning: unrecognized keyword: %supplementary attributes\n",
      "\n",
      "\n",
      "WARNING: KeyParser warning: unrecognized keyword: %axial compression\n",
      "\n",
      "\n",
      "WARNING: RadioNuclideDB::get_radionuclide: unknown modality. Returning \"unknown\" radionuclide.\n"
     ]
    }
   ],
   "source": [
    "acquired_data = STIR.AcquisitionData('prompts.hs')\n",
    "# background = STIR.AcquisitionData('background.hs')\n",
    "background = STIR.AcquisitionData('additive.hs')\n",
    "# mult_factors = STIR.AcquisitionData('mult_factors.hs')\n",
    "mult_factors = STIR.AcquisitionData('multfactors.hs')\n",
    "\n",
    "# somewhat crazy initialisation, currently hand-tuned scale\n",
    "initial_image = STIR.ImageData('20170809_NEMA_MUMAP_UCL.hv')+.5"
   ]
  },
  {
   "cell_type": "code",
   "execution_count": 27,
   "id": "35",
   "metadata": {},
   "outputs": [],
   "source": [
    "# crop it a bit to avoid wasting time\n",
    "initial_image=initial_image.zoom_image(zooms=(1,1,1), offsets_in_mm=(0,0,0), size=(-1,200,200))"
   ]
  },
  {
   "cell_type": "code",
   "execution_count": 28,
   "id": "36",
   "metadata": {},
   "outputs": [],
   "source": [
    "# hand-tuned cmax (TODO fix)\n",
    "cmax = .15\n",
    "im_slice = 70"
   ]
  },
  {
   "cell_type": "code",
   "execution_count": 29,
   "id": "37",
   "metadata": {},
   "outputs": [
    {
     "ename": "error",
     "evalue": "??? \"'\\\\nERROR: ProjDataInfoSubsetByView: views[64]=64 out of range (64).\\\\n' exception caught at line 1076 of /opt/SIRF-SuperBuild/sources/SIRF/src/xSTIR/cSTIR/cstir.cpp; the reconstruction engine output may provide more information\"",
     "output_type": "error",
     "traceback": [
      "\u001b[0;31m---------------------------------------------------------------------------\u001b[0m",
      "\u001b[0;31merror\u001b[0m                                     Traceback (most recent call last)",
      "Cell \u001b[0;32mIn[29], line 1\u001b[0m\n\u001b[0;32m----> 1\u001b[0m OSEM_image \u001b[38;5;241m=\u001b[39m \u001b[43minitial_OSEM\u001b[49m\u001b[43m(\u001b[49m\u001b[43macquired_data\u001b[49m\u001b[43m,\u001b[49m\u001b[43m \u001b[49m\u001b[43madditive_term\u001b[49m\u001b[43m,\u001b[49m\u001b[43m \u001b[49m\u001b[43mmult_factors\u001b[49m\u001b[43m,\u001b[49m\u001b[43m \u001b[49m\u001b[43minitial_image\u001b[49m\u001b[43m)\u001b[49m\n",
      "Cell \u001b[0;32mIn[14], line 3\u001b[0m, in \u001b[0;36minitial_OSEM\u001b[0;34m(acquired_data, additive_term, mult_factors, initial_image)\u001b[0m\n\u001b[1;32m      1\u001b[0m \u001b[38;5;28;01mdef\u001b[39;00m \u001b[38;5;21minitial_OSEM\u001b[39m(acquired_data, additive_term, mult_factors, initial_image):\n\u001b[1;32m      2\u001b[0m     num_subsets \u001b[38;5;241m=\u001b[39m \u001b[38;5;241m1\u001b[39m\n\u001b[0;32m----> 3\u001b[0m     data,acq_models, obj_funs \u001b[38;5;241m=\u001b[39m \u001b[43mpartitioner\u001b[49m\u001b[38;5;241;43m.\u001b[39;49m\u001b[43mdata_partition\u001b[49m\u001b[43m(\u001b[49m\u001b[43macquired_data\u001b[49m\u001b[43m,\u001b[49m\u001b[43m \u001b[49m\u001b[43madditive_term\u001b[49m\u001b[43m,\u001b[49m\u001b[43m \u001b[49m\u001b[43mmult_factors\u001b[49m\u001b[43m,\u001b[49m\u001b[43m \u001b[49m\u001b[43mnum_subsets\u001b[49m\u001b[43m)\u001b[49m\n\u001b[1;32m      5\u001b[0m     obj_fun \u001b[38;5;241m=\u001b[39m STIR\u001b[38;5;241m.\u001b[39mmake_Poisson_loglikelihood(data[\u001b[38;5;241m0\u001b[39m])\n\u001b[1;32m      6\u001b[0m     obj_fun\u001b[38;5;241m.\u001b[39mset_acquisition_model(acq_models[\u001b[38;5;241m0\u001b[39m])\n",
      "File \u001b[0;32m/opt/SIRF-SuperBuild/INSTALL/python/sirf/contrib/partitioner/partitioner.py:82\u001b[0m, in \u001b[0;36mdata_partition\u001b[0;34m(prompts, background, multiplicative_factors, num_batches, mode, seed, initial_image, create_acq_model)\u001b[0m\n\u001b[1;32m     32\u001b[0m \u001b[38;5;250m\u001b[39m\u001b[38;5;124;03m'''Partition the data into ``num_batches`` batches using the specified ``mode``.\u001b[39;00m\n\u001b[1;32m     33\u001b[0m \u001b[38;5;124;03m\u001b[39;00m\n\u001b[1;32m     34\u001b[0m \n\u001b[0;32m   (...)\u001b[0m\n\u001b[1;32m     79\u001b[0m \n\u001b[1;32m     80\u001b[0m \u001b[38;5;124;03m'''\u001b[39;00m\n\u001b[1;32m     81\u001b[0m \u001b[38;5;28;01mif\u001b[39;00m mode \u001b[38;5;241m==\u001b[39m \u001b[38;5;124m\"\u001b[39m\u001b[38;5;124msequential\u001b[39m\u001b[38;5;124m\"\u001b[39m:\n\u001b[0;32m---> 82\u001b[0m     \u001b[38;5;28;01mreturn\u001b[39;00m \u001b[43m_partition_deterministic\u001b[49m\u001b[43m(\u001b[49m\u001b[43m \u001b[49m\u001b[43mprompts\u001b[49m\u001b[43m,\u001b[49m\u001b[43m \u001b[49m\u001b[43mbackground\u001b[49m\u001b[43m,\u001b[49m\u001b[43m \u001b[49m\u001b[43mmultiplicative_factors\u001b[49m\u001b[43m,\u001b[49m\u001b[43m \u001b[49m\u001b[43mnum_batches\u001b[49m\u001b[43m,\u001b[49m\u001b[43m \u001b[49m\u001b[43mstagger\u001b[49m\u001b[38;5;241;43m=\u001b[39;49m\u001b[38;5;28;43;01mFalse\u001b[39;49;00m\u001b[43m,\u001b[49m\u001b[43m \u001b[49m\u001b[43minitial_image\u001b[49m\u001b[38;5;241;43m=\u001b[39;49m\u001b[43minitial_image\u001b[49m\u001b[43m,\u001b[49m\u001b[43m \u001b[49m\u001b[43mcreate_acq_model\u001b[49m\u001b[38;5;241;43m=\u001b[39;49m\u001b[43mcreate_acq_model\u001b[49m\u001b[43m)\u001b[49m\n\u001b[1;32m     83\u001b[0m \u001b[38;5;28;01melif\u001b[39;00m mode \u001b[38;5;241m==\u001b[39m \u001b[38;5;124m\"\u001b[39m\u001b[38;5;124mstaggered\u001b[39m\u001b[38;5;124m\"\u001b[39m:\n\u001b[1;32m     84\u001b[0m     \u001b[38;5;28;01mreturn\u001b[39;00m _partition_deterministic( prompts, background, multiplicative_factors, num_batches, stagger\u001b[38;5;241m=\u001b[39m\u001b[38;5;28;01mTrue\u001b[39;00m, initial_image\u001b[38;5;241m=\u001b[39minitial_image, create_acq_model\u001b[38;5;241m=\u001b[39mcreate_acq_model)\n",
      "File \u001b[0;32m/opt/SIRF-SuperBuild/INSTALL/python/sirf/contrib/partitioner/partitioner.py:133\u001b[0m, in \u001b[0;36m_partition_deterministic\u001b[0;34m(prompts, background, multiplicative_factors, num_batches, stagger, indices, initial_image, create_acq_model)\u001b[0m\n\u001b[1;32m    131\u001b[0m \u001b[38;5;28;01mfor\u001b[39;00m i \u001b[38;5;129;01min\u001b[39;00m \u001b[38;5;28mrange\u001b[39m(\u001b[38;5;28mlen\u001b[39m(partition_indices)):\n\u001b[1;32m    132\u001b[0m     prompts_subset \u001b[38;5;241m=\u001b[39m prompts\u001b[38;5;241m.\u001b[39mget_subset(partition_indices[i])\n\u001b[0;32m--> 133\u001b[0m     background_subset \u001b[38;5;241m=\u001b[39m \u001b[43mbackground\u001b[49m\u001b[38;5;241;43m.\u001b[39;49m\u001b[43mget_subset\u001b[49m\u001b[43m(\u001b[49m\u001b[43mpartition_indices\u001b[49m\u001b[43m[\u001b[49m\u001b[43mi\u001b[49m\u001b[43m]\u001b[49m\u001b[43m)\u001b[49m\n\u001b[1;32m    134\u001b[0m     multiplicative_factors_subset \u001b[38;5;241m=\u001b[39m multiplicative_factors\u001b[38;5;241m.\u001b[39mget_subset(partition_indices[i])\n\u001b[1;32m    136\u001b[0m     sensitivity_factors \u001b[38;5;241m=\u001b[39m pet\u001b[38;5;241m.\u001b[39mAcquisitionSensitivityModel(multiplicative_factors_subset)\n",
      "File \u001b[0;32m/opt/SIRF-SuperBuild/INSTALL/python/sirf/STIR.py:1452\u001b[0m, in \u001b[0;36mAcquisitionData.get_subset\u001b[0;34m(self, views)\u001b[0m\n\u001b[1;32m   1450\u001b[0m subset \u001b[38;5;241m=\u001b[39m AcquisitionData()\n\u001b[1;32m   1451\u001b[0m subset\u001b[38;5;241m.\u001b[39mhandle \u001b[38;5;241m=\u001b[39m pystir\u001b[38;5;241m.\u001b[39mcSTIR_get_subset(\u001b[38;5;28mself\u001b[39m\u001b[38;5;241m.\u001b[39mhandle, n, v\u001b[38;5;241m.\u001b[39mctypes\u001b[38;5;241m.\u001b[39mdata)\n\u001b[0;32m-> 1452\u001b[0m \u001b[43mcheck_status\u001b[49m\u001b[43m(\u001b[49m\u001b[43msubset\u001b[49m\u001b[38;5;241;43m.\u001b[39;49m\u001b[43mhandle\u001b[49m\u001b[43m)\u001b[49m\n\u001b[1;32m   1453\u001b[0m \u001b[38;5;28;01mreturn\u001b[39;00m subset\n",
      "File \u001b[0;32m/opt/SIRF-SuperBuild/INSTALL/python/sirf/Utilities.py:451\u001b[0m, in \u001b[0;36mcheck_status\u001b[0;34m(handle, stack)\u001b[0m\n\u001b[1;32m    446\u001b[0m line \u001b[38;5;241m=\u001b[39m pyiutil\u001b[38;5;241m.\u001b[39mexecutionErrorLine(handle)\n\u001b[1;32m    447\u001b[0m errorMsg \u001b[38;5;241m=\u001b[39m \\\n\u001b[1;32m    448\u001b[0m     \u001b[38;5;28mrepr\u001b[39m(msg) \u001b[38;5;241m+\u001b[39m \u001b[38;5;124m'\u001b[39m\u001b[38;5;124m exception caught at line \u001b[39m\u001b[38;5;124m'\u001b[39m \u001b[38;5;241m+\u001b[39m \\\n\u001b[1;32m    449\u001b[0m     \u001b[38;5;28mrepr\u001b[39m(line) \u001b[38;5;241m+\u001b[39m \u001b[38;5;124m'\u001b[39m\u001b[38;5;124m of \u001b[39m\u001b[38;5;124m'\u001b[39m \u001b[38;5;241m+\u001b[39m file \u001b[38;5;241m+\u001b[39m \u001b[38;5;124m'\u001b[39m\u001b[38;5;124m; \u001b[39m\u001b[38;5;124m'\u001b[39m \u001b[38;5;241m+\u001b[39m \\\n\u001b[1;32m    450\u001b[0m     \u001b[38;5;124m'\u001b[39m\u001b[38;5;124mthe reconstruction engine output may provide more information\u001b[39m\u001b[38;5;124m'\u001b[39m\n\u001b[0;32m--> 451\u001b[0m \u001b[38;5;28;01mraise\u001b[39;00m error(errorMsg)\n",
      "\u001b[0;31merror\u001b[0m: ??? \"'\\\\nERROR: ProjDataInfoSubsetByView: views[64]=64 out of range (64).\\\\n' exception caught at line 1076 of /opt/SIRF-SuperBuild/sources/SIRF/src/xSTIR/cSTIR/cstir.cpp; the reconstruction engine output may provide more information\""
     ]
    }
   ],
   "source": [
    "OSEM_image = initial_OSEM(acquired_data, additive_term, mult_factors, initial_image)"
   ]
  },
  {
   "cell_type": "code",
   "execution_count": null,
   "id": "38",
   "metadata": {},
   "outputs": [],
   "source": [
    "plt.figure()\n",
    "plot_2d_image([1,2,1], OSEM_image.as_array()[:,:,OSEM_image.dimensions()[1]//2 - 5], 'OSEM sagittal',[0,cmax])\n",
    "plot_2d_image([1,2,2], OSEM_image.as_array()[im_slice,:,:], 'OSEM transverse',[0,cmax])"
   ]
  },
  {
   "cell_type": "code",
   "execution_count": null,
   "id": "39",
   "metadata": {},
   "outputs": [],
   "source": [
    "# need to truncate max because of spurious high values at the edge of FOV\n",
    "# TODO fix\n",
    "OSEM_image = OSEM_image.minimum(.3)"
   ]
  },
  {
   "cell_type": "code",
   "execution_count": null,
   "id": "40",
   "metadata": {},
   "outputs": [],
   "source": [
    "num_subsets = 7\n",
    "data,acq_models, obj_funs = partitioner.data_partition(acquired_data, additive_term, mult_factors, num_subsets)"
   ]
  },
  {
   "cell_type": "code",
   "execution_count": null,
   "id": "41",
   "metadata": {},
   "outputs": [],
   "source": [
    "prior = add_RDP(5, initial_image.max()*1e-4, obj_funs)"
   ]
  },
  {
   "cell_type": "code",
   "execution_count": null,
   "id": "42",
   "metadata": {},
   "outputs": [],
   "source": [
    "bsrem1 = BSREM1(data, obj_funs, initial=OSEM_image, initial_step_size=1, relaxation_eta=.05, update_objective_interval=10)\n",
    "bsrem1.max_iteration=80\n",
    "bsrem1.run()"
   ]
  },
  {
   "cell_type": "code",
   "execution_count": null,
   "id": "43",
   "metadata": {},
   "outputs": [],
   "source": [
    "plt.figure()\n",
    "plot_2d_image([1,2,1], OSEM_image.as_array()[im_slice,:,:], 'initial OSEM',[0, cmax])\n",
    "plot_2d_image([1,2,2], bsrem1.x.as_array()[im_slice,:,:], 'BSREM',[0, cmax])"
   ]
  },
  {
   "cell_type": "code",
   "execution_count": null,
   "id": "44",
   "metadata": {},
   "outputs": [],
   "source": [
    "plt.figure()\n",
    "plt.plot(bsrem1.iterations, bsrem1.loss);"
   ]
  },
  {
   "cell_type": "code",
   "execution_count": null,
   "id": "45",
   "metadata": {},
   "outputs": [],
   "source": [
    "plt.close('all')"
   ]
  }
 ],
 "metadata": {
  "kernelspec": {
   "display_name": "Python 3 (ipykernel)",
   "language": "python",
   "name": "python3"
  },
  "language_info": {
   "codemirror_mode": {
    "name": "ipython",
    "version": 3
   },
   "file_extension": ".py",
   "mimetype": "text/x-python",
   "name": "python",
   "nbconvert_exporter": "python",
   "pygments_lexer": "ipython3",
   "version": "3.10.14"
  }
 },
 "nbformat": 4,
 "nbformat_minor": 5
}
